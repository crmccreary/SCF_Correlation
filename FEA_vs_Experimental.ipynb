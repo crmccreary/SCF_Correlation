{
 "cells": [
  {
   "cell_type": "markdown",
   "metadata": {},
   "source": [
    "# SCF Comparison Between Experimental, FEA, and Parametric Equation  Results"
   ]
  },
  {
   "cell_type": "markdown",
   "metadata": {},
   "source": [
    "Stress Concentration Factors (SCF) are the increase in stress at a geometrical discontinuity in a structure\n",
    "such as a hole in a plate or at the intersection of a brace and a chord. In a typical structural analysis, the\n",
    "geometric detail necessary to resolve an SCF is not modeled and is usually not important for a strength\n",
    "analysis. However, for a fatigue analysis, the SCF must be computed and applied to the nominal stress\n",
    "to obtain the peak stress for use with fatigue life calculations. For the tubular structures typically used\n",
    "in offshore structures, there are several parametric equations used to predict the SCF at a brace-chord\n",
    "intersection. The most widely used is the Efthymiou/Durkin parametric equations [1](#cite-efthymiou1988development). These equations\n",
    "predict the SCF at the crown and saddle of tubular connections subject to brace axial force and in-plane and\n",
    "out-of-plane bending. The Efthymiou/Durkin parametric equations can be calculated quite easily using an\n",
    "online tool such as [2](#cite-SimpleTubularSCF) or within a structural analysis program. There are other parameteric equations such\n",
    "as the Kuang, Wordsworth/Smedley, Hellier/Connolly/Dover, and Lloyd’s Register equations. We will\n",
    "only address the Efthymiou/Durkin parametric equations.\n",
    "\n",
    "Outside of the range of applicability of these equations are ring stiffened, grouted, and non-tubular joints\n",
    "for which the SCF is desired but there are no parametric equations from which to compute them. In these\n",
    "cases, the SCF can be readily computed using a Finite Element Analysis (FEA). A number of interpretative\n",
    "problems may arise in the use of FEA in the prediction of the SCF. There may be stress singularities when\n",
    "modeling a joint without modeling the weld. In that case, progressive mesh refinement will eventually yield\n",
    "an infinite SCF.\n",
    "\n",
    "Likewise, the computation of the SCF for tubular joints can be dependent on the modeling methods\n",
    "used in the FEA model and the method of SCF extraction. The DNVGL Recommended Practice C203 ([3](#cite-DNVRPC203))\n",
    "outlines a procedure for extracting the SCF from an FEA. This approach has been codified and automated\n",
    "in a proprietary CRM Engineering program which extracts the SCF along the intersection of an arbitrary\n",
    "connection.\n",
    "\n",
    "However, little work has been reported in the literature which compares both the parametric and the\n",
    "FEA SCF against experimentally measured SCF. The reference [4](#cite-OTH354) compiles a substantial literature survey\n",
    "of experimental SCF measurements and compares them with the aforementioned parametric equations.\n",
    "Thibaux and Cooreman [5](#cite-thibaux2013computation) compare the Efthymiou SCF prediction against an FEA assessment using a rela-\n",
    "tively coarse tetrahedral mesh for the joints."
   ]
  },
  {
   "cell_type": "markdown",
   "metadata": {},
   "source": [
    "## Approach"
   ]
  },
  {
   "cell_type": "markdown",
   "metadata": {},
   "source": [
    "In this work we compare the Efthymiou SCF with the experimental results from [4](#cite-OTH354), FEA results from four node shell elements meshed with two different strategies against the results from [4](#cite-OTH354), and the FEA results with the Efthymiou SCF.\n",
    "The FEA models are built from selected joints reported in [4](#cite-OTH354) in which $\\beta \\lt 1$ and the material is steel for T/Y joints ([4, Tables B1.1 - B1.15](#cite-OTH354)).\n",
    "There are 37 unique joints in [4](#cite-OTH354) modeled.\n",
    "\n",
    "Two meshing strategies are used.\n",
    "In the first the $t \\times t$ to $2t \\times 2t$ method advocated by [3](#cite-DNVRPC203) is employed.\n",
    "This method is indicated by `FEA/1`.\n",
    "The global mesh seed is $\\min\\left(2 t_{\\mathrm{brace}}, t_{\\mathrm{chord}}\\right)$.\n",
    "The second method forces the number of elements at the intersection to be 128.\n",
    "This method is indicated by `FEA/2`.\n",
    "In general, method `FEA/2` yields a finer mesh than `FEA/1`.\n"
   ]
  },
  {
   "cell_type": "markdown",
   "metadata": {},
   "source": [
    "## FEA Boundary Conditions"
   ]
  },
  {
   "cell_type": "markdown",
   "metadata": {},
   "source": [
    "At the center of both ends of the chord and at the center of the brace end, a reference point is created.\n",
    "This reference point is tied to the member end with a kinematic coupling constraint.\n",
    "The chord end reference points are fixed.\n",
    "The axial force, in-plane and out-of-plane bending moments are applied to the brace reference point.\n",
    "The magnitudes of the force and moments are calculated to produce a unit stress on the extreme fiber of the brace.\n",
    "Thus the calculated SCF is referenced to unity."
   ]
  },
  {
   "cell_type": "markdown",
   "metadata": {},
   "source": [
    "## Results"
   ]
  },
  {
   "cell_type": "markdown",
   "metadata": {},
   "source": [
    "The comparisons are plotted such that a perfect correlation would be on the 1:1 black line in the figures.\n",
    "A curve through the origin is fit to each dataset.\n",
    "If the fitted curve is above the 1:1 line, then the method overestimates the SCF.\n",
    "Likewise, if the fitted curve is below the 1:1 line, then the method underestimates the SCF."
   ]
  },
  {
   "cell_type": "code",
   "execution_count": null,
   "metadata": {},
   "outputs": [],
   "source": [
    "import pandas as pd\n",
    "import matplotlib\n",
    "import numpy as np\n",
    "from scipy import stats\n",
    "from scipy.optimize import curve_fit\n",
    "import matplotlib.pyplot as plt\n",
    "%matplotlib inline\n",
    "%config InlineBackend.figure_format = 'svg'\n",
    "matplotlib.style.use('ggplot')"
   ]
  },
  {
   "cell_type": "markdown",
   "metadata": {},
   "source": [
    "`linear_func` is the function for a straight line with $b = 0$."
   ]
  },
  {
   "cell_type": "code",
   "execution_count": null,
   "metadata": {},
   "outputs": [],
   "source": [
    "def linear_func(xdata, m):\n",
    "    return m*xdata"
   ]
  },
  {
   "cell_type": "markdown",
   "metadata": {},
   "source": [
    "Read in the result summary into a pandas dataframe.\n",
    "Not all the experimental results have results for each loading or location.\n",
    "These missing values are indicated with a `NaN`."
   ]
  },
  {
   "cell_type": "code",
   "execution_count": null,
   "metadata": {},
   "outputs": [],
   "source": [
    "df = pd.read_csv('result_summary_combined.csv', na_values=['NaN'])"
   ]
  },
  {
   "cell_type": "code",
   "execution_count": null,
   "metadata": {},
   "outputs": [],
   "source": [
    "with pd.option_context('display.max_rows', None):\n",
    "    print(df)"
   ]
  },
  {
   "cell_type": "code",
   "execution_count": null,
   "metadata": {},
   "outputs": [],
   "source": [
    "def make_plot(x1, y1, x2, y2, popt_1, popt_2,ymax, x_axis, y_axis='FEA'):\n",
    "    fig = plt.figure(figsize=(10, 8))\n",
    "    ax = fig.add_subplot(111)\n",
    "    plt.scatter(x1.values,\n",
    "                y1.values,\n",
    "                color='r',\n",
    "                label='FEA/1')\n",
    "    plt.scatter(x2.values,\n",
    "                y2.values,\n",
    "                color='b',\n",
    "                label='FEA/2')\n",
    "    plt.plot([0,100],[0,100],color='k')\n",
    "    plt.plot(x1.values, \n",
    "             linear_func(x1.values, *popt_1), \n",
    "             'r')\n",
    "    plt.plot(x2.values, \n",
    "             linear_func(x2.values, *popt_2), \n",
    "             'b')\n",
    "    plt.xlabel(x_axis)\n",
    "    plt.ylabel(y_axis)\n",
    "    ax.set_aspect('equal')\n",
    "    ax.set_xlim(0,ymax)\n",
    "    ax.set_ylim(0,ymax)\n",
    "    plt.legend()\n",
    "    return fig"
   ]
  },
  {
   "cell_type": "code",
   "execution_count": null,
   "metadata": {},
   "outputs": [],
   "source": [
    "def make_plot_experiment(x1, y1, x2, y2, popt_1, popt_2, ymax):\n",
    "    fig = make_plot(x1, y1, x2, y2, popt_1, popt_2,ymax, 'Experiment')\n",
    "    return fig"
   ]
  },
  {
   "cell_type": "code",
   "execution_count": null,
   "metadata": {},
   "outputs": [],
   "source": [
    "def make_plot_experiment_efthymiou(x, y1, popt_1, ymax):\n",
    "    fig = plt.figure(figsize=(10, 8))\n",
    "    ax = fig.add_subplot(111)\n",
    "    plt.scatter(x.values,\n",
    "                y1.values,\n",
    "                color='r',\n",
    "                label='Efthymiou')\n",
    "    plt.plot([0,100],[0,100],color='k')\n",
    "    plt.plot(x.values, \n",
    "             linear_func(x.values, *popt_1), \n",
    "             'r')\n",
    "    plt.xlabel('Experiment')\n",
    "    plt.ylabel('Efthymiou')\n",
    "    ax.set_aspect('equal')\n",
    "    ax.set_xlim(0,ymax)\n",
    "    ax.set_ylim(0,ymax)\n",
    "    plt.legend()\n",
    "    return fig"
   ]
  },
  {
   "cell_type": "code",
   "execution_count": null,
   "metadata": {},
   "outputs": [],
   "source": [
    "def make_plot_efthymiou(x, y1, y2, popt_1, popt_2, ymax):\n",
    "    fig = make_plot(x, y1, y2, popt_1, popt_2,ymax, 'Efthymiou')\n",
    "    return fig"
   ]
  },
  {
   "cell_type": "markdown",
   "metadata": {},
   "source": [
    "The `outliers_iqr` function removes outliers using the inter-quartile method."
   ]
  },
  {
   "cell_type": "code",
   "execution_count": null,
   "metadata": {},
   "outputs": [],
   "source": [
    "def outliers_iqr(ys):\n",
    "    \n",
    "    quartile_1, quartile_3 = np.percentile(ys, [25, 75])\n",
    "    iqr = quartile_3 - quartile_1\n",
    "    lower_bound = quartile_1 - (iqr * 1.5)\n",
    "    #print(lower_bound)\n",
    "    upper_bound = quartile_3 + (iqr * 1.5)\n",
    "    #print(upper_bound)\n",
    "    return np.argwhere((ys > upper_bound) | (ys < lower_bound))"
   ]
  },
  {
   "cell_type": "code",
   "execution_count": null,
   "metadata": {},
   "outputs": [],
   "source": [
    "def process_case(lc):\n",
    "    '''\n",
    "    lc = 'AxialChordSaddle', etc.\n",
    "    '''\n",
    "    experiment = df.loc[df['Source'] == 'Experiment'][lc]\n",
    "    efthy_exp = df.loc[df['Source'] == 'Efthymiou'][lc]\n",
    "    fea = df.loc[df['Source'] == 'FEA'][lc]\n",
    "    fea_2 = df.loc[df['Source'] == 'FEA/2'][lc]\n",
    "    # Verify the lengths are equal\n",
    "    assert len( set( [len(experiment), \n",
    "                      len(efthy_exp),\n",
    "                      len(fea),\n",
    "                      len(fea_2)]) ) == 1\n",
    "    # Create dataframe from columns\n",
    "    src = {'Experiment':experiment.values,\n",
    "           'Efthymiou':efthy_exp.values,\n",
    "           'FEA':fea.values,\n",
    "           'FEA/2':fea_2.values}\n",
    "    src_df = pd.DataFrame(data=src)\n",
    "    #with pd.option_context('display.max_rows', None):\n",
    "    #    print(src_df)\n",
    "    \n",
    "    # Process FEA\n",
    "    \n",
    "    # Drop rows with NaN\n",
    "    fea_df = src_df.dropna(subset=['Experiment','FEA'])\n",
    "    # Reindex\n",
    "    fea_df = fea_df.reset_index(drop=True)\n",
    "        \n",
    "    # Detect outliers using inter-quartile range method\n",
    "    indices_fea = outliers_iqr(fea_df['Experiment'].values - \n",
    "                               fea_df['FEA'].values)\n",
    "    \n",
    "    # Drop outliers\n",
    "    fea_df = fea_df.drop(indices_fea.flatten())\n",
    "    # Reindex\n",
    "    fea_df = fea_df.reset_index(drop=True)\n",
    "\n",
    "    # Process FEA/2\n",
    "    \n",
    "    # Drop rows with NaN\n",
    "    fea_2_df = src_df.dropna(subset=['Experiment','FEA/2'])\n",
    "    # Reindex\n",
    "    fea_2_df = fea_2_df.reset_index(drop=True)\n",
    "        \n",
    "    # Detect outliers using inter-quartile range method\n",
    "    indices_fea_2 = outliers_iqr(fea_2_df['Experiment'].values - \n",
    "                                 fea_2_df['FEA/2'].values)\n",
    "    \n",
    "    # Drop outliers\n",
    "    fea_2_df = fea_2_df.drop(indices_fea_2.flatten())\n",
    "    # Reindex\n",
    "    fea_2_df = fea_2_df.reset_index(drop=True)\n",
    "\n",
    "    # Process Efthymiou\n",
    "    \n",
    "    # Drop rows with NaN\n",
    "    efthy_df = src_df.dropna(subset=['Experiment','Efthymiou'])\n",
    "    # Reindex\n",
    "    efthy_df = efthy_df.reset_index(drop=True)\n",
    "        \n",
    "    # Detect outliers using inter-quartile range method\n",
    "    indices_efthy = outliers_iqr(efthy_df['Experiment'].values - \n",
    "                                 efthy_df['Efthymiou'].values)\n",
    "    \n",
    "    # Drop outliers\n",
    "    efthy_df = efthy_df.drop(indices_efthy.flatten())\n",
    "    # Reindex\n",
    "    efthy_df = efthy_df.reset_index(drop=True)\n",
    "    \n",
    "    d = {'fea':fea_df,\n",
    "         'fea_2':fea_2_df,\n",
    "         'efthy':efthy_df}\n",
    "    \n",
    "    return d"
   ]
  },
  {
   "cell_type": "markdown",
   "metadata": {},
   "source": [
    "Function which fits both the FEA and the Ethymiou parameteric results to a straight line goig through the origin."
   ]
  },
  {
   "cell_type": "code",
   "execution_count": null,
   "metadata": {},
   "outputs": [],
   "source": [
    "def fit(d):\n",
    "    popt_1, pcov_1 = curve_fit(linear_func, \n",
    "                               d['fea']['Experiment'].values, \n",
    "                               d['fea']['FEA'].values)\n",
    "    popt_2, pcov_2 = curve_fit(linear_func, \n",
    "                               d['fea_2']['Experiment'].values, \n",
    "                               d['fea_2']['FEA/2'].values)\n",
    "    popt_3, pcov_3 = curve_fit(linear_func, \n",
    "                               d['efthy']['Experiment'].values, \n",
    "                               d['efthy']['Efthymiou'].values)\n",
    "    return ((popt_1, popt_2, popt_3),\n",
    "            (pcov_1, pcov_2, pcov_3))"
   ]
  },
  {
   "cell_type": "markdown",
   "metadata": {},
   "source": [
    "## Axial"
   ]
  },
  {
   "cell_type": "markdown",
   "metadata": {},
   "source": [
    "### Chord"
   ]
  },
  {
   "cell_type": "markdown",
   "metadata": {},
   "source": [
    "#### Saddle"
   ]
  },
  {
   "cell_type": "code",
   "execution_count": null,
   "metadata": {},
   "outputs": [],
   "source": [
    "d_axial_chord_saddle = process_case('AxialChordSaddle')"
   ]
  },
  {
   "cell_type": "code",
   "execution_count": null,
   "metadata": {},
   "outputs": [],
   "source": [
    "popt_axial_chord_saddle, pcov_axial_chord_saddle = fit(d_axial_chord_saddle)"
   ]
  },
  {
   "cell_type": "code",
   "execution_count": null,
   "metadata": {},
   "outputs": [],
   "source": [
    "print('Slope FEA/1 vs experiment: {:0.2f}'.format(popt_axial_chord_saddle[0][0]))\n",
    "perr = np.sqrt(np.diag(pcov_axial_chord_saddle[0]))[0]\n",
    "print('One standard deviation error on the slope: {:0.2f}'.format(perr))"
   ]
  },
  {
   "cell_type": "code",
   "execution_count": null,
   "metadata": {},
   "outputs": [],
   "source": [
    "print('Slope FEA/2 vs experiment: {:0.2f}'.format(popt_axial_chord_saddle[1][0]))\n",
    "perr = np.sqrt(np.diag(pcov_axial_chord_saddle[1]))[0]\n",
    "print('One standard deviation error on the slope: {:0.2f}'.format(perr))"
   ]
  },
  {
   "cell_type": "code",
   "execution_count": null,
   "metadata": {},
   "outputs": [],
   "source": [
    "print('Slope: Efthymiou vs experiment: {:0.2f}'.format(popt_axial_chord_saddle[2][0]))\n",
    "perr = np.sqrt(np.diag(pcov_axial_chord_saddle[2]))[0]\n",
    "print('One standard deviation error on the slope: {:0.2f}'.format(perr))"
   ]
  },
  {
   "cell_type": "code",
   "execution_count": null,
   "metadata": {},
   "outputs": [],
   "source": [
    "fig = make_plot_experiment(d_axial_chord_saddle['fea']['Experiment'],\n",
    "                           d_axial_chord_saddle['fea']['FEA'],\n",
    "                           d_axial_chord_saddle['fea_2']['Experiment'],\n",
    "                           d_axial_chord_saddle['fea_2']['FEA/2'], \n",
    "                           popt_axial_chord_saddle[0], \n",
    "                           popt_axial_chord_saddle[1],\n",
    "                           20)\n",
    "fig.savefig('AxialChordSaddle_fea_vs_exp.pdf', bbox_inches='tight')\n",
    "fig.suptitle('FEA vs. Experimental SCF', fontsize=14, fontweight='bold')\n",
    "fig.axes[0].set_title('Axial/Chord/Saddle')"
   ]
  },
  {
   "cell_type": "code",
   "execution_count": null,
   "metadata": {},
   "outputs": [],
   "source": [
    "fig = make_plot_experiment_efthymiou(d_axial_chord_saddle['efthy']['Experiment'],\n",
    "                                     d_axial_chord_saddle['efthy']['Efthymiou'], \n",
    "                                     popt_axial_chord_saddle[2],\n",
    "                                     20)\n",
    "fig.savefig('AxialChordSaddle_efthy_vs_exp.pdf', bbox_inches='tight')\n",
    "fig.suptitle('Efthymiou vs. Experimental SCF', fontsize=14, fontweight='bold')\n",
    "fig.axes[0].set_title('Axial/Chord/Saddle')"
   ]
  },
  {
   "cell_type": "markdown",
   "metadata": {},
   "source": [
    "#### Crown"
   ]
  },
  {
   "cell_type": "code",
   "execution_count": null,
   "metadata": {},
   "outputs": [],
   "source": [
    "d_axial_chord_crown = process_case('AxialChordCrown')"
   ]
  },
  {
   "cell_type": "code",
   "execution_count": null,
   "metadata": {},
   "outputs": [],
   "source": [
    "popt_axial_chord_crown, pcov_axial_chord_crown = fit(d_axial_chord_crown)"
   ]
  },
  {
   "cell_type": "code",
   "execution_count": null,
   "metadata": {},
   "outputs": [],
   "source": [
    "print('Slope FEA/1 vs experiment: {:0.2f}'.format(popt_axial_chord_crown[0][0]))\n",
    "perr = np.sqrt(np.diag(pcov_axial_chord_crown[0]))[0]\n",
    "print('One standard deviation error on the slope: {:0.2f}'.format(perr))"
   ]
  },
  {
   "cell_type": "code",
   "execution_count": null,
   "metadata": {},
   "outputs": [],
   "source": [
    "print('Slope FEA/2 vs experiment: {:0.2f}'.format(popt_axial_chord_crown[1][0]))\n",
    "perr = np.sqrt(np.diag(pcov_axial_chord_crown[1]))[0]\n",
    "print('One standard deviation error on the slope: {:0.2f}'.format(perr))"
   ]
  },
  {
   "cell_type": "code",
   "execution_count": null,
   "metadata": {},
   "outputs": [],
   "source": [
    "print('Slope: Efthymiou vs experiment: {:0.2f}'.format(popt_axial_chord_crown[2][0]))\n",
    "perr = np.sqrt(np.diag(pcov_axial_chord_crown[2]))[0]\n",
    "print('One standard deviation error on the slope: {:0.2f}'.format(perr))"
   ]
  },
  {
   "cell_type": "code",
   "execution_count": null,
   "metadata": {},
   "outputs": [],
   "source": [
    "fig = make_plot_experiment(d_axial_chord_crown['fea']['Experiment'],\n",
    "                           d_axial_chord_crown['fea']['FEA'],\n",
    "                           d_axial_chord_crown['fea_2']['Experiment'],\n",
    "                           d_axial_chord_crown['fea_2']['FEA/2'], \n",
    "                           popt_axial_chord_crown[0], \n",
    "                           popt_axial_chord_crown[1],\n",
    "                           7)\n",
    "fig.savefig('AxialChordCrown_fea_vs_exp.pdf', bbox_inches='tight')\n",
    "fig.suptitle('FEA vs. Experimental SCF', fontsize=14, fontweight='bold')\n",
    "fig.axes[0].set_title('Axial/Chord/Crown')"
   ]
  },
  {
   "cell_type": "code",
   "execution_count": null,
   "metadata": {},
   "outputs": [],
   "source": [
    "fig = make_plot_experiment_efthymiou(d_axial_chord_crown['efthy']['Experiment'],\n",
    "                                     d_axial_chord_crown['efthy']['Efthymiou'], \n",
    "                                     popt_axial_chord_crown[2],\n",
    "                                     8)\n",
    "fig.savefig('AxialChordCrown_efthy_vs_exp.pdf', bbox_inches='tight')\n",
    "fig.suptitle('Efthymiou vs. Experimental SCF', fontsize=14, fontweight='bold')\n",
    "fig.axes[0].set_title('Axial/Chord/Crown')"
   ]
  },
  {
   "cell_type": "markdown",
   "metadata": {},
   "source": [
    "### Brace"
   ]
  },
  {
   "cell_type": "markdown",
   "metadata": {},
   "source": [
    "#### Saddle"
   ]
  },
  {
   "cell_type": "code",
   "execution_count": null,
   "metadata": {},
   "outputs": [],
   "source": [
    "d_axial_brace_saddle = process_case('AxialBraceSaddle')"
   ]
  },
  {
   "cell_type": "code",
   "execution_count": null,
   "metadata": {},
   "outputs": [],
   "source": [
    "popt_axial_brace_saddle, pcov_axial_brace_saddle = fit(d_axial_brace_saddle)"
   ]
  },
  {
   "cell_type": "code",
   "execution_count": null,
   "metadata": {},
   "outputs": [],
   "source": [
    "print('Slope FEA/1 vs experiment: {:0.2f}'.format(popt_axial_brace_saddle[0][0]))\n",
    "perr = np.sqrt(np.diag(pcov_axial_brace_saddle[0]))[0]\n",
    "print('One standard deviation error on the slope: {:0.2f}'.format(perr))"
   ]
  },
  {
   "cell_type": "code",
   "execution_count": null,
   "metadata": {},
   "outputs": [],
   "source": [
    "print('Slope FEA/2 vs experiment: {:0.2f}'.format(popt_axial_brace_saddle[1][0]))\n",
    "perr = np.sqrt(np.diag(pcov_axial_brace_saddle[1]))[0]\n",
    "print('One standard deviation error on the slope: {:0.2f}'.format(perr))"
   ]
  },
  {
   "cell_type": "code",
   "execution_count": null,
   "metadata": {},
   "outputs": [],
   "source": [
    "print('Slope: Efthymiou vs experiment: {:0.2f}'.format(popt_axial_brace_saddle[2][0]))\n",
    "perr = np.sqrt(np.diag(pcov_axial_brace_saddle[2]))[0]\n",
    "print('One standard deviation error on the slope: {:0.2f}'.format(perr))"
   ]
  },
  {
   "cell_type": "code",
   "execution_count": null,
   "metadata": {},
   "outputs": [],
   "source": [
    "fig = make_plot_experiment(d_axial_brace_saddle['fea']['Experiment'],\n",
    "                           d_axial_brace_saddle['fea']['FEA'],\n",
    "                           d_axial_brace_saddle['fea_2']['Experiment'],\n",
    "                           d_axial_brace_saddle['fea_2']['FEA/2'], \n",
    "                           popt_axial_brace_saddle[0], \n",
    "                           popt_axial_brace_saddle[1],\n",
    "                           16)\n",
    "fig.savefig('AxialBraceSaddle_fea_vs_exp.pdf', bbox_inches='tight')\n",
    "fig.suptitle('FEA vs. Experimental SCF', fontsize=14, fontweight='bold')\n",
    "fig.axes[0].set_title('Axial/Brace/Saddle')"
   ]
  },
  {
   "cell_type": "code",
   "execution_count": null,
   "metadata": {},
   "outputs": [],
   "source": [
    "fig = make_plot_experiment_efthymiou(d_axial_brace_saddle['efthy']['Experiment'],\n",
    "                                     d_axial_brace_saddle['efthy']['Efthymiou'], \n",
    "                                     popt_axial_brace_saddle[2],\n",
    "                                     14)\n",
    "fig.savefig('AxialBraceSaddle_efthy_vs_exp.pdf', bbox_inches='tight')\n",
    "fig.suptitle('Efthymiou vs. Experimental SCF', fontsize=14, fontweight='bold')\n",
    "fig.axes[0].set_title('Axial/Brace/Saddle')"
   ]
  },
  {
   "cell_type": "markdown",
   "metadata": {},
   "source": [
    "#### Crown"
   ]
  },
  {
   "cell_type": "code",
   "execution_count": null,
   "metadata": {},
   "outputs": [],
   "source": [
    "d_axial_brace_crown = process_case('AxialBraceCrown')"
   ]
  },
  {
   "cell_type": "code",
   "execution_count": null,
   "metadata": {},
   "outputs": [],
   "source": [
    "popt_axial_brace_crown, pcov_axial_brace_crown = fit(d_axial_brace_crown)"
   ]
  },
  {
   "cell_type": "code",
   "execution_count": null,
   "metadata": {},
   "outputs": [],
   "source": [
    "print('Slope FEA/1 vs experiment: {:0.2f}'.format(popt_axial_brace_crown[0][0]))\n",
    "perr = np.sqrt(np.diag(pcov_axial_brace_crown[0]))[0]\n",
    "print('One standard deviation error on the slope: {:0.2f}'.format(perr))"
   ]
  },
  {
   "cell_type": "code",
   "execution_count": null,
   "metadata": {},
   "outputs": [],
   "source": [
    "print('Slope FEA/2 vs experiment: {:0.2f}'.format(popt_axial_brace_crown[1][0]))\n",
    "perr = np.sqrt(np.diag(pcov_axial_brace_crown[1]))[0]\n",
    "print('One standard deviation error on the slope: {:0.2f}'.format(perr))"
   ]
  },
  {
   "cell_type": "code",
   "execution_count": null,
   "metadata": {},
   "outputs": [],
   "source": [
    "print('Slope: Efthymiou vs experiment: {:0.2f}'.format(popt_axial_brace_crown[2][0]))\n",
    "perr = np.sqrt(np.diag(pcov_axial_brace_crown[2]))[0]\n",
    "print('One standard deviation error on the slope: {:0.2f}'.format(perr))"
   ]
  },
  {
   "cell_type": "code",
   "execution_count": null,
   "metadata": {},
   "outputs": [],
   "source": [
    "fig = make_plot_experiment(d_axial_brace_crown['fea']['Experiment'],\n",
    "                           d_axial_brace_crown['fea']['FEA'],\n",
    "                           d_axial_brace_crown['fea_2']['Experiment'],\n",
    "                           d_axial_brace_crown['fea_2']['FEA/2'], \n",
    "                           popt_axial_brace_crown[0], \n",
    "                           popt_axial_brace_crown[1],\n",
    "                           4)\n",
    "fig.savefig('AxialBraceCrown_fea_vs_exp.pdf', bbox_inches='tight')\n",
    "fig.suptitle('FEA vs. Experimental SCF', fontsize=14, fontweight='bold')\n",
    "fig.axes[0].set_title('Axial/Brace/Crown')"
   ]
  },
  {
   "cell_type": "code",
   "execution_count": null,
   "metadata": {},
   "outputs": [],
   "source": [
    "fig = make_plot_experiment_efthymiou(d_axial_brace_crown['efthy']['Experiment'],\n",
    "                                     d_axial_brace_crown['efthy']['Efthymiou'], \n",
    "                                     popt_axial_brace_crown[2],\n",
    "                                     4)\n",
    "fig.savefig('AxialBraceCrown_efthy_vs_exp.pdf', bbox_inches='tight')\n",
    "fig.suptitle('Efthymiou vs. Experimental SCF', fontsize=14, fontweight='bold')\n",
    "fig.axes[0].set_title('Axial/Brace/Crown')"
   ]
  },
  {
   "cell_type": "markdown",
   "metadata": {},
   "source": [
    "## OPB"
   ]
  },
  {
   "cell_type": "markdown",
   "metadata": {},
   "source": [
    "### Chord"
   ]
  },
  {
   "cell_type": "markdown",
   "metadata": {},
   "source": [
    "#### Saddle"
   ]
  },
  {
   "cell_type": "code",
   "execution_count": null,
   "metadata": {},
   "outputs": [],
   "source": [
    "d_opb_chord_saddle = process_case('OPBChordSaddle')"
   ]
  },
  {
   "cell_type": "code",
   "execution_count": null,
   "metadata": {},
   "outputs": [],
   "source": [
    "popt_opb_chord_saddle, pcov_opb_chord_saddle = fit(d_opb_chord_saddle)"
   ]
  },
  {
   "cell_type": "code",
   "execution_count": null,
   "metadata": {},
   "outputs": [],
   "source": [
    "print('Slope FEA/1 vs experiment: {:0.2f}'.format(popt_opb_chord_saddle[0][0]))\n",
    "perr = np.sqrt(np.diag(pcov_opb_chord_saddle[0]))[0]\n",
    "print('One standard deviation error on the slope: {:0.2f}'.format(perr))"
   ]
  },
  {
   "cell_type": "code",
   "execution_count": null,
   "metadata": {},
   "outputs": [],
   "source": [
    "print('Slope FEA/2 vs experiment: {:0.2f}'.format(popt_opb_chord_saddle[1][0]))\n",
    "perr = np.sqrt(np.diag(pcov_opb_chord_saddle[1]))[0]\n",
    "print('One standard deviation error on the slope: {:0.2f}'.format(perr))"
   ]
  },
  {
   "cell_type": "code",
   "execution_count": null,
   "metadata": {},
   "outputs": [],
   "source": [
    "print('Slope: Efthymiou vs experiment: {:0.2f}'.format(popt_opb_chord_saddle[2][0]))\n",
    "perr = np.sqrt(np.diag(pcov_opb_chord_saddle[2]))[0]\n",
    "print('One standard deviation error on the slope: {:0.2f}'.format(perr))"
   ]
  },
  {
   "cell_type": "code",
   "execution_count": null,
   "metadata": {},
   "outputs": [],
   "source": [
    "fig = make_plot_experiment(d_opb_chord_saddle['fea']['Experiment'],\n",
    "                           d_opb_chord_saddle['fea']['FEA'],\n",
    "                           d_opb_chord_saddle['fea_2']['Experiment'],\n",
    "                           d_opb_chord_saddle['fea_2']['FEA/2'], \n",
    "                           popt_opb_chord_saddle[0], \n",
    "                           popt_opb_chord_saddle[1],\n",
    "                           20)\n",
    "fig.savefig('OPBChordSaddle_fea_vs_exp.pdf', bbox_inches='tight')\n",
    "fig.suptitle('FEA vs. Experimental SCF', fontsize=14, fontweight='bold')\n",
    "fig.axes[0].set_title('OPB/Chord/Saddle')"
   ]
  },
  {
   "cell_type": "code",
   "execution_count": null,
   "metadata": {},
   "outputs": [],
   "source": [
    "fig = make_plot_experiment_efthymiou(d_opb_chord_saddle['efthy']['Experiment'],\n",
    "                                     d_opb_chord_saddle['efthy']['Efthymiou'], \n",
    "                                     popt_opb_chord_saddle[2],\n",
    "                                     25)\n",
    "fig.savefig('OPBChordSaddle_efthy_vs_exp.pdf', bbox_inches='tight')\n",
    "fig.suptitle('Efthymiou vs. Experimental SCF', fontsize=14, fontweight='bold')\n",
    "fig.axes[0].set_title('OPB/Chord/Saddle')"
   ]
  },
  {
   "cell_type": "markdown",
   "metadata": {},
   "source": [
    "### Brace"
   ]
  },
  {
   "cell_type": "markdown",
   "metadata": {},
   "source": [
    "#### Saddle"
   ]
  },
  {
   "cell_type": "code",
   "execution_count": null,
   "metadata": {},
   "outputs": [],
   "source": [
    "d_opb_brace_saddle = process_case('OPBBraceSaddle')"
   ]
  },
  {
   "cell_type": "code",
   "execution_count": null,
   "metadata": {},
   "outputs": [],
   "source": [
    "popt_opb_brace_saddle, pcov_opb_brace_saddle = fit(d_opb_brace_saddle)"
   ]
  },
  {
   "cell_type": "code",
   "execution_count": null,
   "metadata": {},
   "outputs": [],
   "source": [
    "print('Slope FEA/1 vs experiment: {:0.2f}'.format(popt_opb_brace_saddle[0][0]))\n",
    "perr = np.sqrt(np.diag(pcov_opb_brace_saddle[0]))[0]\n",
    "print('One standard deviation error on the slope: {:0.2f}'.format(perr))"
   ]
  },
  {
   "cell_type": "code",
   "execution_count": null,
   "metadata": {},
   "outputs": [],
   "source": [
    "print('Slope FEA/2 vs experiment: {:0.2f}'.format(popt_opb_brace_saddle[1][0]))\n",
    "perr = np.sqrt(np.diag(pcov_opb_brace_saddle[1]))[0]\n",
    "print('One standard deviation error on the slope: {:0.2f}'.format(perr))"
   ]
  },
  {
   "cell_type": "code",
   "execution_count": null,
   "metadata": {},
   "outputs": [],
   "source": [
    "print('Slope: Efthymiou vs experiment: {:0.2f}'.format(popt_opb_brace_saddle[2][0]))\n",
    "perr = np.sqrt(np.diag(pcov_opb_brace_saddle[2]))[0]\n",
    "print('One standard deviation error on the slope: {:0.2f}'.format(perr))"
   ]
  },
  {
   "cell_type": "code",
   "execution_count": null,
   "metadata": {},
   "outputs": [],
   "source": [
    "fig = make_plot_experiment(d_opb_brace_saddle['fea']['Experiment'],\n",
    "                           d_opb_brace_saddle['fea']['FEA'],\n",
    "                           d_opb_brace_saddle['fea_2']['Experiment'],\n",
    "                           d_opb_brace_saddle['fea_2']['FEA/2'], \n",
    "                           popt_opb_brace_saddle[0], \n",
    "                           popt_opb_brace_saddle[1],\n",
    "                           15)\n",
    "fig.savefig('OPBBraceSaddle_fea_vs_exp.pdf', bbox_inches='tight')\n",
    "fig.suptitle('FEA vs. Experimental SCF', fontsize=14, fontweight='bold')\n",
    "fig.axes[0].set_title('OPB/Brace/Saddle')"
   ]
  },
  {
   "cell_type": "code",
   "execution_count": null,
   "metadata": {},
   "outputs": [],
   "source": [
    "fig = make_plot_experiment_efthymiou(d_opb_brace_saddle['efthy']['Experiment'],\n",
    "                                     d_opb_brace_saddle['efthy']['Efthymiou'], \n",
    "                                     popt_opb_brace_saddle[2],\n",
    "                                     12)\n",
    "fig.savefig('OPBBraceSaddle_efthy_vs_exp.pdf', bbox_inches='tight')\n",
    "fig.suptitle('Efthymiou vs. Experimental SCF', fontsize=14, fontweight='bold')\n",
    "fig.axes[0].set_title('OPB/Brace/Saddle')"
   ]
  },
  {
   "cell_type": "markdown",
   "metadata": {},
   "source": [
    "## IPB"
   ]
  },
  {
   "cell_type": "markdown",
   "metadata": {},
   "source": [
    "### Chord"
   ]
  },
  {
   "cell_type": "markdown",
   "metadata": {},
   "source": [
    "#### Crown"
   ]
  },
  {
   "cell_type": "code",
   "execution_count": null,
   "metadata": {},
   "outputs": [],
   "source": [
    "d_ipb_chord_crown = process_case('IPBChordCrown')"
   ]
  },
  {
   "cell_type": "code",
   "execution_count": null,
   "metadata": {},
   "outputs": [],
   "source": [
    "popt_ipb_chord_crown, pcov_ipb_chord_crown = fit(d_ipb_chord_crown)"
   ]
  },
  {
   "cell_type": "code",
   "execution_count": null,
   "metadata": {},
   "outputs": [],
   "source": [
    "print('Slope FEA/1 vs experiment: {:0.2f}'.format(popt_ipb_chord_crown[0][0]))\n",
    "perr = np.sqrt(np.diag(pcov_ipb_chord_crown[0]))[0]\n",
    "print('One standard deviation error on the slope: {:0.2f}'.format(perr))"
   ]
  },
  {
   "cell_type": "code",
   "execution_count": null,
   "metadata": {},
   "outputs": [],
   "source": [
    "print('Slope FEA/2 vs experiment: {:0.2f}'.format(popt_ipb_chord_crown[1][0]))\n",
    "perr = np.sqrt(np.diag(pcov_ipb_chord_crown[1]))[0]\n",
    "print('One standard deviation error on the slope: {:0.2f}'.format(perr))"
   ]
  },
  {
   "cell_type": "code",
   "execution_count": null,
   "metadata": {},
   "outputs": [],
   "source": [
    "print('Slope: Efthymiou vs experiment: {:0.2f}'.format(popt_ipb_chord_crown[2][0]))\n",
    "perr = np.sqrt(np.diag(pcov_ipb_chord_crown[2]))[0]\n",
    "print('One standard deviation error on the slope: {:0.2f}'.format(perr))"
   ]
  },
  {
   "cell_type": "code",
   "execution_count": null,
   "metadata": {},
   "outputs": [],
   "source": [
    "fig = make_plot_experiment(d_ipb_chord_crown['fea']['Experiment'],\n",
    "                           d_ipb_chord_crown['fea']['FEA'],\n",
    "                           d_ipb_chord_crown['fea_2']['Experiment'],\n",
    "                           d_ipb_chord_crown['fea_2']['FEA/2'], \n",
    "                           popt_ipb_chord_crown[0], \n",
    "                           popt_ipb_chord_crown[1],\n",
    "                           7)\n",
    "fig.savefig('IPBChordCrown_fea_vs_exp.pdf', bbox_inches='tight')\n",
    "fig.savefig('IPBChordCrown_fea_vs_exp.png', bbox_inches='tight')\n",
    "fig.suptitle('FEA vs. Experimental SCF', fontsize=14, fontweight='bold')\n",
    "fig.axes[0].set_title('IPB/Chord/Crown')"
   ]
  },
  {
   "cell_type": "code",
   "execution_count": null,
   "metadata": {},
   "outputs": [],
   "source": [
    "fig = make_plot_experiment_efthymiou(d_ipb_chord_crown['efthy']['Experiment'],\n",
    "                                     d_ipb_chord_crown['efthy']['Efthymiou'], \n",
    "                                     popt_ipb_chord_crown[2],\n",
    "                                     7)\n",
    "fig.savefig('IPBChordCrown_efthy_vs_exp.pdf', bbox_inches='tight')\n",
    "fig.suptitle('Efthymiou vs. Experimental SCF', fontsize=14, fontweight='bold')\n",
    "fig.axes[0].set_title('IPB/Chord/Crown')"
   ]
  },
  {
   "cell_type": "markdown",
   "metadata": {},
   "source": [
    "### Brace"
   ]
  },
  {
   "cell_type": "markdown",
   "metadata": {},
   "source": [
    "#### Crown"
   ]
  },
  {
   "cell_type": "code",
   "execution_count": null,
   "metadata": {},
   "outputs": [],
   "source": [
    "d_ipb_brace_crown = process_case('IPBBraceCrown')"
   ]
  },
  {
   "cell_type": "code",
   "execution_count": null,
   "metadata": {},
   "outputs": [],
   "source": [
    "popt_ipb_brace_crown, pcov_ipb_brace_crown = fit(d_ipb_brace_crown)"
   ]
  },
  {
   "cell_type": "code",
   "execution_count": null,
   "metadata": {},
   "outputs": [],
   "source": [
    "print('Slope FEA/1 vs experiment: {:0.2f}'.format(popt_ipb_brace_crown[0][0]))\n",
    "perr = np.sqrt(np.diag(pcov_ipb_brace_crown[0]))[0]\n",
    "print('One standard deviation error on the slope: {:0.2f}'.format(perr))"
   ]
  },
  {
   "cell_type": "code",
   "execution_count": null,
   "metadata": {},
   "outputs": [],
   "source": [
    "print('Slope FEA/2 vs experiment: {:0.2f}'.format(popt_ipb_brace_crown[1][0]))\n",
    "perr = np.sqrt(np.diag(pcov_ipb_brace_crown[1]))[0]\n",
    "print('One standard deviation error on the slope: {:0.2f}'.format(perr))"
   ]
  },
  {
   "cell_type": "code",
   "execution_count": null,
   "metadata": {},
   "outputs": [],
   "source": [
    "print('Slope: Efthymiou vs experiment: {:0.2f}'.format(popt_ipb_brace_crown[2][0]))\n",
    "perr = np.sqrt(np.diag(pcov_ipb_brace_crown[2]))[0]\n",
    "print('One standard deviation error on the slope: {:0.2f}'.format(perr))"
   ]
  },
  {
   "cell_type": "code",
   "execution_count": null,
   "metadata": {},
   "outputs": [],
   "source": [
    "fig = make_plot_experiment(d_ipb_brace_crown['fea']['Experiment'],\n",
    "                           d_ipb_brace_crown['fea']['FEA'],\n",
    "                           d_ipb_brace_crown['fea_2']['Experiment'],\n",
    "                           d_ipb_brace_crown['fea_2']['FEA/2'], \n",
    "                           popt_ipb_brace_crown[0], \n",
    "                           popt_ipb_brace_crown[1],\n",
    "                           4)\n",
    "fig.savefig('IPBBraceCrown_fea_vs_exp.pdf', bbox_inches='tight')\n",
    "fig.suptitle('FEA vs. Experimental SCF', fontsize=14, fontweight='bold')\n",
    "fig.axes[0].set_title('IPB/Brace/Crown')"
   ]
  },
  {
   "cell_type": "code",
   "execution_count": null,
   "metadata": {},
   "outputs": [],
   "source": [
    "fig = make_plot_experiment_efthymiou(d_ipb_brace_crown['efthy']['Experiment'],\n",
    "                                     d_ipb_brace_crown['efthy']['Efthymiou'], \n",
    "                                     popt_ipb_brace_crown[2],\n",
    "                                     5)\n",
    "fig.savefig('IPBBraceCrown_efthy_vs_exp.pdf', bbox_inches='tight')\n",
    "fig.suptitle('Efthymiou vs. Experimental SCF', fontsize=14, fontweight='bold')\n",
    "fig.axes[0].set_title('IPB/Brace/Crown')"
   ]
  },
  {
   "cell_type": "markdown",
   "metadata": {},
   "source": [
    "<!--bibtex\n",
    "\n",
    "\n",
    "@Article{efthymiou1988development,\n",
    "  Title    = {Development of SCF formulae and generalised influence functions for use in fatigue analysis},\n",
    "  Author   = {Efthymiou, M},\n",
    "  Journal  = {Recent Developments in Tubular Joint Technology, OTJ},\n",
    "  Volume   = {88},\n",
    "  year     = {1988},\n",
    "}\n",
    "\n",
    "@misc{SimpleTubularSCF,\n",
    "  title = {Calculation of tubular joint SCF using Efthymiou equations},\n",
    "  AUTHOR={CRM Engineering},\n",
    "  url = \"https://simple-tubular-scf.com\",\n",
    "  note = {Accessed: 2018-06-27}\n",
    "}\n",
    "\n",
    "@MANUAL{DNVRPC203,\n",
    "AUTHOR={DNV-RP-C203},\n",
    "TITLE={DNV Offshore Standard DNV-RP-C203},\n",
    "YEAR={2005},\n",
    "}\n",
    "\n",
    "@book{OTH354,\n",
    "  title={OTH 354: Stress concentration factors for simple tubular joints - assessment of existing and development of new parameteric formulae},\n",
    "  author={Health and Safety Executive (UK)},\n",
    "  year={1997},\n",
    "  publisher={Lloyd's Register of Shipping}\n",
    "}\n",
    "\n",
    "@inproceedings{thibaux2013computation,\n",
    "  title={Computation of stress concentration factors for tubular joints},\n",
    "  author={Thibaux, Philippe and Cooreman, Steven},\n",
    "  booktitle={ASME 2013 32nd International Conference on Ocean, Offshore and Arctic Engineering},\n",
    "  pages={V02BT02A011--V02BT02A011},\n",
    "  year={2013},\n",
    "  organization={American Society of Mechanical Engineers}\n",
    "}\n",
    "\n",
    "\n",
    "-->"
   ]
  },
  {
   "cell_type": "markdown",
   "metadata": {},
   "source": [
    "# References\n",
    "\n",
    "<a name=\"cite-efthymiou1988development\"/><sup>[1](#ref-1) </sup>Efthymiou, M. 1988. _Development of SCF formulae and generalised influence functions for use in fatigue analysis_.\n",
    "\n",
    "<a name=\"cite-simpletubularscf\"/><sup>[2](#ref-2) </sup>CRM Engineering. undefined. _Calculation of tubular joint SCF using Efthymiou equations_. [URL](https://simple-tubular-scf.com)\n",
    "\n",
    "<a name=\"cite-dnvrpc203\"/><sup>[3](#ref-3) </sup>DNV-RP-C203. 2005. _DNV Offshore Standard DNV-RP-C203_.\n",
    "\n",
    "<a name=\"cite-oth354\"/><sup>[4](#ref-4) </sup>Health and Safety Executive (UK). 1997. _OTH 354: Stress concentration factors for simple tubular joints - assessment of existing and development of new parameteric formulae_.\n",
    "\n",
    "<a name=\"cite-thibaux2013computation\"/><sup>[5](#ref-5) </sup>Thibaux, Philippe and Cooreman, Steven. 2013. _Computation of stress concentration factors for tubular joints_.\n",
    "\n"
   ]
  }
 ],
 "metadata": {
  "language_info": {
   "name": "python",
   "pygments_lexer": "ipython3"
  }
 },
 "nbformat": 4,
 "nbformat_minor": 2
}
